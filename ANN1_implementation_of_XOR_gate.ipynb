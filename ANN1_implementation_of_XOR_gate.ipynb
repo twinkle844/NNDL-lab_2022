{
  "nbformat": 4,
  "nbformat_minor": 0,
  "metadata": {
    "colab": {
      "name": "ANN1_implementation of XOR gate.ipynb",
      "provenance": [],
      "authorship_tag": "ABX9TyMEn1xq/J2s7acVll7AeeEq",
      "include_colab_link": true
    },
    "kernelspec": {
      "name": "python3",
      "display_name": "Python 3"
    },
    "language_info": {
      "name": "python"
    }
  },
  "cells": [
    {
      "cell_type": "markdown",
      "metadata": {
        "id": "view-in-github",
        "colab_type": "text"
      },
      "source": [
        "<a href=\"https://colab.research.google.com/github/twinkle844/NNDL-lab_2022/blob/main/ANN1_implementation_of_XOR_gate.ipynb\" target=\"_parent\"><img src=\"https://colab.research.google.com/assets/colab-badge.svg\" alt=\"Open In Colab\"/></a>"
      ]
    },
    {
      "cell_type": "markdown",
      "source": [
        "ANN implemetation of XOR\n",
        "\n",
        "AIM: To implement XOR GATE using ANN\n",
        "\n",
        "THEORY: Implementing logic gates using neural networks help understand the mathematical computation by which a neural network processes its inputs to arrive at a certain output. This neural network will deal with the XOR logic problem. An XOR (exclusive OR gate) is a digital logic gate that gives a true output only when both its inputs differ from each other. The truth table for an XOR gate is shown below: \n",
        "![image.png](data:image/png;base64,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)\n",
        "\n",
        "\n",
        "The goal of the neural network is to classify the input patterns according to the above truth table. If the input patterns are plotted according to their outputs, it is seen that these points are not linearly separable. Hence the neural network has to be modeled to separate these input patterns using decision planes."
      ],
      "metadata": {
        "id": "0hL_rTVsV0UK"
      }
    },
    {
      "cell_type": "code",
      "execution_count": null,
      "metadata": {
        "id": "5t-S8RgChkR-"
      },
      "outputs": [],
      "source": [
        "import numpy as np # linear algebra\n",
        "import pandas as pd # data processing, CSV file I/O (e.g. pd.read_csv)\n",
        "import matplotlib.pyplot as plt"
      ]
    },
    {
      "cell_type": "code",
      "source": [
        "import os\n",
        "for dirname, _, filenames in os.walk('/kaggle/input'):\n",
        "    for filename in filenames:\n",
        "        print(os.path.join(dirname, filename))"
      ],
      "metadata": {
        "id": "aH7_6mRtnfEp"
      },
      "execution_count": null,
      "outputs": []
    },
    {
      "cell_type": "code",
      "source": [
        "data = [[0,0,1,1],[0,1,0,1]]\n",
        "X = np.array(data)"
      ],
      "metadata": {
        "id": "Cj49-r4Bnikb"
      },
      "execution_count": null,
      "outputs": []
    },
    {
      "cell_type": "code",
      "source": [
        "result_and = [[0,0,0,1]]\n",
        "result_or = [[0,1,1,1]]\n",
        "result_xor = [[0,1,1,0]]"
      ],
      "metadata": {
        "id": "NLwG58l5nlbU"
      },
      "execution_count": null,
      "outputs": []
    },
    {
      "cell_type": "code",
      "source": [
        "Y = np.array(result_xor)\n",
        "\n",
        "def activate(x):\n",
        "    return 1/(1+np.exp(-x))\n",
        "def intialize_params(inputfeatures , hiddenneurons , outputfeatures):\n",
        "    W1=np.random.randn(hiddenneurons, inputfeatures)\n",
        "    W2=np.random.randn(outputfeatures, hiddenneurons)\n",
        "    b1=np.zeros((hiddenneurons,1))\n",
        "    b2=np.zeros((outputfeatures,1))\n",
        "    \n",
        "    params = {\n",
        "        \"W1\":W1,\n",
        "        \"W2\":W2,\n",
        "        \"b1\":b1,\n",
        "        \"b2\":b2,\n",
        "    }\n",
        "    return params\n",
        "\n",
        "def forward(X, Y, params):\n",
        "    n = X.shape[1]\n",
        "    W1 = params[\"W1\"]\n",
        "    W2 = params[\"W2\"]\n",
        "    b1 = params[\"b1\"]\n",
        "    b2 = params[\"b2\"]\n",
        "    \n",
        "    Z1= np.dot(W1,X)+b1\n",
        "    A1= activate(Z1)\n",
        "    Z2= np.dot(W2,A1)+b2\n",
        "    A2= activate(Z2)\n",
        "    \n",
        "    cache = (Z1,A1,W1,b1, Z2,A2,W2,b2)\n",
        "    logprobs = np.multiply(np.log(A2), Y)+ np.multiply(np.log(1-A2),(1-Y))\n",
        "    cost = -np.sum(logprobs)/n\n",
        "    return cost, cache, A2\n",
        "    \n",
        "def backprop(X ,Y, cache):\n",
        "    n = X.shape[1]\n",
        "    (Z1,A1,W1,b1, Z2,A2,W2,b2)= cache\n",
        "    \n",
        "    dz2= A2-Y\n",
        "    dW2= np.dot(dz2,A1.T)/n\n",
        "    db2= np.sum(dz2,axis=1, keepdims=True)\n",
        "    \n",
        "    dA1= np.dot(W2.T, dz2)\n",
        "    dz1= np.multiply(dA1, A1*(1- A1))\n",
        "    \n",
        "    dW1= np.dot(dz1,X.T)/n\n",
        "    db1= np.sum(dz1,axis = 1,keepdims = True)/n\n",
        "    \n",
        "    gradient= {\"dZ2\": dz2, \"dW2\": dW2, \"db2\": db2,\n",
        "                 \"dZ1\": dz1, \"dW1\": dW1, \"db1\": db1}\n",
        "    return gradient\n",
        "    \n",
        "def update_params(params,gradient,Lr):\n",
        "    params[\"W1\"]= params[\"W1\"]-Lr*gradient[\"dW1\"]\n",
        "    params[\"W2\"]= params[\"W2\"]-Lr*gradient[\"dW2\"]\n",
        "    params[\"b1\"]= params[\"b1\"]-Lr*gradient[\"db1\"]\n",
        "    params[\"b2\"]= params[\"b2\"]-Lr*gradient[\"db2\"]\n",
        "    return params\n",
        "\n",
        "hiddenneurons = 2\n",
        "inputfeatures= X.shape[0]\n",
        "outputfeatures= Y.shape[0]\n",
        "params = intialize_params(inputfeatures, hiddenneurons, outputfeatures)\n",
        "epochs= 100000\n",
        "Lr= 0.01\n",
        "losses = np.zeros((epochs,1))\n",
        "\n",
        "for i in range(epochs):\n",
        "    losses[i,0], cache, A2 = forward(X,Y,params)\n",
        "    gradient = backprop(X, Y,cache)\n",
        "    param = update_params(params,gradient,Lr)\n",
        "\n",
        "plt.grid(True)\n",
        "plt.plot(losses)\n",
        "plt.xlabel(\"EPOCHS\")\n",
        "plt.ylabel(\"Loss value\")\n",
        "plt.show()"
      ],
      "metadata": {
        "colab": {
          "base_uri": "https://localhost:8080/",
          "height": 279
        },
        "id": "-hmMNjb0noAM",
        "outputId": "6130e0f4-b8ec-4aed-8166-6188c579d600"
      },
      "execution_count": null,
      "outputs": [
        {
          "output_type": "display_data",
          "data": {
            "text/plain": [
              "<Figure size 432x288 with 1 Axes>"
            ],
            "image/png": "[encoded data removed]"
          },
          "metadata": {
            "needs_background": "light"
          }
        }
      ]
    },
    {
      "cell_type": "code",
      "source": [
        "X_new = np.array([[1, 1, 0, 0], [0, 1, 0, 1]]) \n",
        "# print(X)\n",
        "_, _, A2 = forward(X_new, Y, params)\n",
        "print(A2)\n",
        "prediction = np.zeros((A2.size))\n",
        "\n",
        "for a in A2:\n",
        "    for i in range(4):\n",
        "        if(a[i]>0.5):\n",
        "            prediction[i]=1.0\n",
        "\n",
        "print(prediction)"
      ],
      "metadata": {
        "colab": {
          "base_uri": "https://localhost:8080/"
        },
        "id": "LFDxiIFmnuO6",
        "outputId": "29afd8cd-16fe-4069-a02d-76b86ab9fc14"
      },
      "execution_count": null,
      "outputs": [
        {
          "output_type": "stream",
          "name": "stdout",
          "text": [
            "[[0.99160429 0.50299326 0.00906986 0.49633032]]\n",
            "[1. 1. 0. 0.]\n"
          ]
        }
      ]
    },
    {
      "cell_type": "code",
      "source": [
        "X = np.array([[1,1],[1,0],[0,1],[0,0]]) \n",
        "X_new = np.array([[1,0],[1,1],[0,0],[0,1]]) \n",
        "result_xor = [0,1,1,0]\n",
        "Y= np.array(result_xor)"
      ],
      "metadata": {
        "id": "XhxcG-bCnxlm"
      },
      "execution_count": null,
      "outputs": []
    },
    {
      "cell_type": "code",
      "source": [
        "from sklearn.neural_network import MLPClassifier\n",
        "clf = MLPClassifier(solver='lbfgs', alpha=0.00001 ,hidden_layer_sizes=(5, 4), random_state=1)\n",
        "clf.fit(X, Y)\n",
        "Y_pred= clf.predict(X_new)\n",
        "print(Y_pred)"
      ],
      "metadata": {
        "colab": {
          "base_uri": "https://localhost:8080/"
        },
        "id": "_d_TDSBon0Vd",
        "outputId": "f27981a7-a14f-4106-9c5a-7a5bf52864a9"
      },
      "execution_count": null,
      "outputs": [
        {
          "output_type": "stream",
          "name": "stdout",
          "text": [
            "[1 0 0 1]\n"
          ]
        }
      ]
    },
    {
      "cell_type": "code",
      "source": [
        "def Step_activation(x):\n",
        "    if x>=0:\n",
        "        return 1\n",
        "    else:\n",
        "        return 0\n",
        "\n",
        "def model(x,w,b):\n",
        "    o1= np.dot(x,w)+ b\n",
        "    y= Step_activation(o1)\n",
        "    return y\n",
        "\n",
        "def not_model(x):\n",
        "    w= -1\n",
        "    b= 0.5\n",
        "    return model(x,w,b)\n",
        "\n",
        "def and_model(x):\n",
        "    w= np.array([1,1])\n",
        "    b= -1.5\n",
        "    return model(x,w,b)\n",
        "\n",
        "def or_model(x):\n",
        "    w= np.array([1,1])\n",
        "    b= -0.5\n",
        "    return model(x,w,b)\n",
        "\n",
        "def xor_model(x):\n",
        "    y1= and_model(x)\n",
        "    y2= or_model(x)\n",
        "    y3= not_model(y1)\n",
        "    x_new= np.array([y2,y3])\n",
        "    return and_model(x_new)\n",
        "    \n",
        "test_all = np.array([[0,0],[0,1],[1,0],[1,1]])\n",
        "\n",
        "for test in test_all:\n",
        "    print(\"XOR({}, {}) = {}\".format(test[0], test[1], xor_model(test)))"
      ],
      "metadata": {
        "colab": {
          "base_uri": "https://localhost:8080/"
        },
        "id": "6SFhAJv3n2vm",
        "outputId": "085b8314-9d3f-4909-c982-90d36a889a69"
      },
      "execution_count": null,
      "outputs": [
        {
          "output_type": "stream",
          "name": "stdout",
          "text": [
            "XOR(0, 0) = 0\n",
            "XOR(0, 1) = 1\n",
            "XOR(1, 0) = 1\n",
            "XOR(1, 1) = 0\n"
          ]
        }
      ]
    },
    {
      "cell_type": "markdown",
      "source": [
        "OR(0, 0) = 0\n",
        "\n",
        "OR(0, 1) = 1\n",
        "\n",
        "OR(1, 0) = 1\n",
        "\n",
        "OR(1, 1) = 1\n",
        "\n",
        "CONCLUSION: We have learnt how to implenet XOR GATE using ANN in python"
      ],
      "metadata": {
        "id": "IpAwji5PWn7p"
      }
    }
  ]
}