{
  "nbformat": 4,
  "nbformat_minor": 0,
  "metadata": {
    "colab": {
      "name": "ANN_implementation of XOR gate.ipynb",
      "provenance": [],
      "authorship_tag": "ABX9TyOkvG9jaU7lO/E61ZNpucVR",
      "include_colab_link": true
    },
    "kernelspec": {
      "name": "python3",
      "display_name": "Python 3"
    },
    "language_info": {
      "name": "python"
    }
  },
  "cells": [
    {
      "cell_type": "markdown",
      "metadata": {
        "id": "view-in-github",
        "colab_type": "text"
      },
      "source": [
        "<a href=\"https://colab.research.google.com/github/twinkle844/NNDL-lab_2022/blob/main/ANN_implementation_of_XOR_gate.ipynb\" target=\"_parent\"><img src=\"https://colab.research.google.com/assets/colab-badge.svg\" alt=\"Open In Colab\"/></a>"
      ]
    },
    {
      "cell_type": "code",
      "execution_count": 1,
      "metadata": {
        "id": "5t-S8RgChkR-"
      },
      "outputs": [],
      "source": [
        "import numpy as np # linear algebra\n",
        "import pandas as pd # data processing, CSV file I/O (e.g. pd.read_csv)\n",
        "import matplotlib.pyplot as plt"
      ]
    },
    {
      "cell_type": "code",
      "source": [
        "import os\n",
        "for dirname, _, filenames in os.walk('/kaggle/input'):\n",
        "    for filename in filenames:\n",
        "        print(os.path.join(dirname, filename))"
      ],
      "metadata": {
        "id": "aH7_6mRtnfEp"
      },
      "execution_count": 2,
      "outputs": []
    },
    {
      "cell_type": "code",
      "source": [
        "data = [[0,0,1,1],[0,1,0,1]]\n",
        "X = np.array(data)"
      ],
      "metadata": {
        "id": "Cj49-r4Bnikb"
      },
      "execution_count": 3,
      "outputs": []
    },
    {
      "cell_type": "code",
      "source": [
        "result_and = [[0,0,0,1]]\n",
        "result_or = [[0,1,1,1]]\n",
        "result_xor = [[0,1,1,0]]"
      ],
      "metadata": {
        "id": "NLwG58l5nlbU"
      },
      "execution_count": 4,
      "outputs": []
    },
    {
      "cell_type": "code",
      "source": [
        "Y = np.array(result_xor)\n",
        "\n",
        "def activate(x):\n",
        "    return 1/(1+np.exp(-x))\n",
        "def intialize_params(inputfeatures , hiddenneurons , outputfeatures):\n",
        "    W1=np.random.randn(hiddenneurons, inputfeatures)\n",
        "    W2=np.random.randn(outputfeatures, hiddenneurons)\n",
        "    b1=np.zeros((hiddenneurons,1))\n",
        "    b2=np.zeros((outputfeatures,1))\n",
        "    \n",
        "    params = {\n",
        "        \"W1\":W1,\n",
        "        \"W2\":W2,\n",
        "        \"b1\":b1,\n",
        "        \"b2\":b2,\n",
        "    }\n",
        "    return params\n",
        "\n",
        "def forward(X, Y, params):\n",
        "    n = X.shape[1]\n",
        "    W1 = params[\"W1\"]\n",
        "    W2 = params[\"W2\"]\n",
        "    b1 = params[\"b1\"]\n",
        "    b2 = params[\"b2\"]\n",
        "    \n",
        "    Z1= np.dot(W1,X)+b1\n",
        "    A1= activate(Z1)\n",
        "    Z2= np.dot(W2,A1)+b2\n",
        "    A2= activate(Z2)\n",
        "    \n",
        "    cache = (Z1,A1,W1,b1, Z2,A2,W2,b2)\n",
        "    logprobs = np.multiply(np.log(A2), Y)+ np.multiply(np.log(1-A2),(1-Y))\n",
        "    cost = -np.sum(logprobs)/n\n",
        "    return cost, cache, A2\n",
        "    \n",
        "def backprop(X ,Y, cache):\n",
        "    n = X.shape[1]\n",
        "    (Z1,A1,W1,b1, Z2,A2,W2,b2)= cache\n",
        "    \n",
        "    dz2= A2-Y\n",
        "    dW2= np.dot(dz2,A1.T)/n\n",
        "    db2= np.sum(dz2,axis=1, keepdims=True)\n",
        "    \n",
        "    dA1= np.dot(W2.T, dz2)\n",
        "    dz1= np.multiply(dA1, A1*(1- A1))\n",
        "    \n",
        "    dW1= np.dot(dz1,X.T)/n\n",
        "    db1= np.sum(dz1,axis = 1,keepdims = True)/n\n",
        "    \n",
        "    gradient= {\"dZ2\": dz2, \"dW2\": dW2, \"db2\": db2,\n",
        "                 \"dZ1\": dz1, \"dW1\": dW1, \"db1\": db1}\n",
        "    return gradient\n",
        "    \n",
        "def update_params(params,gradient,Lr):\n",
        "    params[\"W1\"]= params[\"W1\"]-Lr*gradient[\"dW1\"]\n",
        "    params[\"W2\"]= params[\"W2\"]-Lr*gradient[\"dW2\"]\n",
        "    params[\"b1\"]= params[\"b1\"]-Lr*gradient[\"db1\"]\n",
        "    params[\"b2\"]= params[\"b2\"]-Lr*gradient[\"db2\"]\n",
        "    return params\n",
        "\n",
        "hiddenneurons = 2\n",
        "inputfeatures= X.shape[0]\n",
        "outputfeatures= Y.shape[0]\n",
        "params = intialize_params(inputfeatures, hiddenneurons, outputfeatures)\n",
        "epochs= 100000\n",
        "Lr= 0.01\n",
        "losses = np.zeros((epochs,1))\n",
        "\n",
        "for i in range(epochs):\n",
        "    losses[i,0], cache, A2 = forward(X,Y,params)\n",
        "    gradient = backprop(X, Y,cache)\n",
        "    param = update_params(params,gradient,Lr)\n",
        "\n",
        "plt.grid(True)\n",
        "plt.plot(losses)\n",
        "plt.xlabel(\"EPOCHS\")\n",
        "plt.ylabel(\"Loss value\")\n",
        "plt.show()"
      ],
      "metadata": {
        "colab": {
          "base_uri": "https://localhost:8080/",
          "height": 279
        },
        "id": "-hmMNjb0noAM",
        "outputId": "6130e0f4-b8ec-4aed-8166-6188c579d600"
      },
      "execution_count": 5,
      "outputs": [
        {
          "output_type": "display_data",
          "data": {
            "text/plain": [
              "<Figure size 432x288 with 1 Axes>"
            ],
            "image/png": "[encoded data removed]"
          },
          "metadata": {
            "needs_background": "light"
          }
        }
      ]
    },
    {
      "cell_type": "code",
      "source": [
        "X_new = np.array([[1, 1, 0, 0], [0, 1, 0, 1]]) \n",
        "# print(X)\n",
        "_, _, A2 = forward(X_new, Y, params)\n",
        "print(A2)\n",
        "prediction = np.zeros((A2.size))\n",
        "\n",
        "for a in A2:\n",
        "    for i in range(4):\n",
        "        if(a[i]>0.5):\n",
        "            prediction[i]=1.0\n",
        "\n",
        "print(prediction)"
      ],
      "metadata": {
        "colab": {
          "base_uri": "https://localhost:8080/"
        },
        "id": "LFDxiIFmnuO6",
        "outputId": "29afd8cd-16fe-4069-a02d-76b86ab9fc14"
      },
      "execution_count": 6,
      "outputs": [
        {
          "output_type": "stream",
          "name": "stdout",
          "text": [
            "[[0.99160429 0.50299326 0.00906986 0.49633032]]\n",
            "[1. 1. 0. 0.]\n"
          ]
        }
      ]
    },
    {
      "cell_type": "code",
      "source": [
        "X = np.array([[1,1],[1,0],[0,1],[0,0]]) \n",
        "X_new = np.array([[1,0],[1,1],[0,0],[0,1]]) \n",
        "result_xor = [0,1,1,0]\n",
        "Y= np.array(result_xor)"
      ],
      "metadata": {
        "id": "XhxcG-bCnxlm"
      },
      "execution_count": 7,
      "outputs": []
    },
    {
      "cell_type": "code",
      "source": [
        "from sklearn.neural_network import MLPClassifier\n",
        "clf = MLPClassifier(solver='lbfgs', alpha=0.00001 ,hidden_layer_sizes=(5, 4), random_state=1)\n",
        "clf.fit(X, Y)\n",
        "Y_pred= clf.predict(X_new)\n",
        "print(Y_pred)"
      ],
      "metadata": {
        "colab": {
          "base_uri": "https://localhost:8080/"
        },
        "id": "_d_TDSBon0Vd",
        "outputId": "f27981a7-a14f-4106-9c5a-7a5bf52864a9"
      },
      "execution_count": 8,
      "outputs": [
        {
          "output_type": "stream",
          "name": "stdout",
          "text": [
            "[1 0 0 1]\n"
          ]
        }
      ]
    },
    {
      "cell_type": "code",
      "source": [
        "def Step_activation(x):\n",
        "    if x>=0:\n",
        "        return 1\n",
        "    else:\n",
        "        return 0\n",
        "\n",
        "def model(x,w,b):\n",
        "    o1= np.dot(x,w)+ b\n",
        "    y= Step_activation(o1)\n",
        "    return y\n",
        "\n",
        "def not_model(x):\n",
        "    w= -1\n",
        "    b= 0.5\n",
        "    return model(x,w,b)\n",
        "\n",
        "def and_model(x):\n",
        "    w= np.array([1,1])\n",
        "    b= -1.5\n",
        "    return model(x,w,b)\n",
        "\n",
        "def or_model(x):\n",
        "    w= np.array([1,1])\n",
        "    b= -0.5\n",
        "    return model(x,w,b)\n",
        "\n",
        "def xor_model(x):\n",
        "    y1= and_model(x)\n",
        "    y2= or_model(x)\n",
        "    y3= not_model(y1)\n",
        "    x_new= np.array([y2,y3])\n",
        "    return and_model(x_new)\n",
        "    \n",
        "test_all = np.array([[0,0],[0,1],[1,0],[1,1]])\n",
        "\n",
        "for test in test_all:\n",
        "    print(\"XOR({}, {}) = {}\".format(test[0], test[1], xor_model(test)))"
      ],
      "metadata": {
        "colab": {
          "base_uri": "https://localhost:8080/"
        },
        "id": "6SFhAJv3n2vm",
        "outputId": "085b8314-9d3f-4909-c982-90d36a889a69"
      },
      "execution_count": 9,
      "outputs": [
        {
          "output_type": "stream",
          "name": "stdout",
          "text": [
            "XOR(0, 0) = 0\n",
            "XOR(0, 1) = 1\n",
            "XOR(1, 0) = 1\n",
            "XOR(1, 1) = 0\n"
          ]
        }
      ]
    }
  ]
}