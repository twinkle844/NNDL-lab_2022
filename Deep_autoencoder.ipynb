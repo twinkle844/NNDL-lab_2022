{
  "nbformat": 4,
  "nbformat_minor": 0,
  "metadata": {
    "colab": {
      "name": "Deep_autoencoder.ipynb",
      "provenance": [],
      "include_colab_link": true
    },
    "kernelspec": {
      "name": "python3",
      "display_name": "Python 3"
    },
    "language_info": {
      "name": "python"
    }
  },
  "cells": [
    {
      "cell_type": "markdown",
      "metadata": {
        "id": "view-in-github",
        "colab_type": "text"
      },
      "source": [
        "<a href=\"https://colab.research.google.com/github/twinkle844/NNDL-lab_2022/blob/main/Deep_autoencoder.ipynb\" target=\"_parent\"><img src=\"https://colab.research.google.com/assets/colab-badge.svg\" alt=\"Open In Colab\"/></a>"
      ]
    },
    {
      "cell_type": "markdown",
      "source": [
        "**AUTOENCODER FEATURE EXTRACTION FOR CLASSIFICATION USING CONVENTIONAL AUTOENCODER**"
      ],
      "metadata": {
        "id": "d70AWI27S1ac"
      }
    },
    {
      "cell_type": "markdown",
      "source": [
        "***AIM: To use Deep autoencoder feature extraction method for classification***"
      ],
      "metadata": {
        "id": "O3kFVRWvS1QK"
      }
    },
    {
      "cell_type": "markdown",
      "source": [
        "***THEORY:***\n",
        "\n",
        "*An autoencoder is a special type of neural network that is trained to copy its input to its output. For example, given an image of a handwritten digit, an autoencoder first encodes the image into a lower dimensional latent representation, then decodes the latent representation back to an image.*\n",
        "\n",
        "*Data specific means that the autoencoder will only be able to actually compress the data on which it has been trained. For example, if you train an autoencoder with images of dogs, then it will give a bad performance for cats. The autoencoder plans to learn the representation which is known as the encoding for a whole set of data. This can result in the reduction of the dimensionality by the training network. The reconstruction part is also learned with this.*\n",
        "\n",
        "*Lossy operations mean that the reconstructed image is often not an as sharp or high resolution in quality as the original one and the difference is greater for reconstructions with a greater loss and this is known as a lossy operation. The following image shows how the image is encoded and decoded with a certain loss factor.*\n",
        "\n",
        "*The Input will be passed through a layer of encoders which are actually a fully connected neural network that also makes the code decoder and hence use the same code for encoding and decoding like an ANN.*"
      ],
      "metadata": {
        "id": "dVkVYsAmTY2D"
      }
    },
    {
      "cell_type": "markdown",
      "source": [
        "***IMPLEMENTATION:***\n",
        "\n",
        "*Trained ANN through backpropagation works in the same way as the autoencoders. In this article we are going to discuss Deep autoencoder which will be implemented as follows:*"
      ],
      "metadata": {
        "id": "Y2HE7P4oTe7y"
      }
    },
    {
      "cell_type": "code",
      "execution_count": null,
      "metadata": {
        "id": "Mz37TZxenN1n"
      },
      "outputs": [],
      "source": [
        "import os\n",
        "os.environ[\"TF_CPP_MIN_LOG_LEVEL\"] = \"2\"\n",
        "\n",
        "import numpy as np\n",
        "import matplotlib.pyplot as plt\n",
        "import tensorflow as tf\n",
        "from tensorflow.keras.layers import Input, Dense\n",
        "from tensorflow.keras.models import Model\n",
        "from tensorflow.keras.optimizers import Adam\n",
        "from tensorflow.keras.regularizers import l1, l2"
      ]
    },
    {
      "cell_type": "code",
      "source": [
        "## Seeding\n",
        "np.random.seed(42)\n",
        "tf.random.set_seed(42)\n",
        "\n",
        "## Loading the MNIST dataset and then normalizing the images.\n",
        "dataset = tf.keras.datasets.mnist\n",
        "(x_train, y_train),(x_test, y_test) = dataset.load_data()\n",
        "x_train, x_test = x_train / 255.0, x_test / 255.0\n",
        "\n",
        "H = 28\n",
        "W = 28\n",
        "C = 1"
      ],
      "metadata": {
        "colab": {
          "base_uri": "https://localhost:8080/"
        },
        "id": "_FkxkGRanQaY",
        "outputId": "3f248ca8-dea0-4cb0-fd9a-88c80c8727bb"
      },
      "execution_count": null,
      "outputs": [
        {
          "output_type": "stream",
          "name": "stdout",
          "text": [
            "Downloading data from https://storage.googleapis.com/tensorflow/tf-keras-datasets/mnist.npz\n",
            "11493376/11490434 [==============================] - 0s 0us/step\n",
            "11501568/11490434 [==============================] - 0s 0us/step\n"
          ]
        }
      ]
    },
    {
      "cell_type": "code",
      "source": [
        "## Flattening the images.\n",
        "x_train = np.reshape(x_train, (-1, H * W * C))\n",
        "x_test = np.reshape(x_test, (-1, H * W * C))\n",
        "print(x_train.shape, x_test.shape)\n",
        "\n",
        "## Latent space\n",
        "latent_dim = 32"
      ],
      "metadata": {
        "colab": {
          "base_uri": "https://localhost:8080/"
        },
        "id": "on6Vg03lnU1P",
        "outputId": "27494e23-048b-461b-d9f4-32a4551bd022"
      },
      "execution_count": null,
      "outputs": [
        {
          "output_type": "stream",
          "name": "stdout",
          "text": [
            "(60000, 784) (10000, 784)\n"
          ]
        }
      ]
    },
    {
      "cell_type": "code",
      "source": [
        "## Building the autoencoder\n",
        "inputs = Input(shape=(H*W*C,))\n",
        "e = Dense(256, activation=\"relu\")(inputs)\n",
        "h = Dense(latent_dim, activation=\"relu\")(e)\n",
        "d = Dense(256, activation=\"relu\")(h)\n",
        "outputs = Dense(H*W*C, activation=\"sigmoid\")(d)\n",
        "\n",
        "autoencoder = Model(inputs, outputs)\n",
        "autoencoder.compile(optimizer=Adam(1e-3), loss='binary_crossentropy')\n",
        "autoencoder.summary()"
      ],
      "metadata": {
        "colab": {
          "base_uri": "https://localhost:8080/"
        },
        "id": "i4lsQTf0nZ0S",
        "outputId": "30296dbc-7070-4188-adc6-00811340d540"
      },
      "execution_count": null,
      "outputs": [
        {
          "output_type": "stream",
          "name": "stdout",
          "text": [
            "Model: \"model\"\n",
            "_________________________________________________________________\n",
            " Layer (type)                Output Shape              Param #   \n",
            "=================================================================\n",
            " input_1 (InputLayer)        [(None, 784)]             0         \n",
            "                                                                 \n",
            " dense (Dense)               (None, 256)               200960    \n",
            "                                                                 \n",
            " dense_1 (Dense)             (None, 32)                8224      \n",
            "                                                                 \n",
            " dense_2 (Dense)             (None, 256)               8448      \n",
            "                                                                 \n",
            " dense_3 (Dense)             (None, 784)               201488    \n",
            "                                                                 \n",
            "=================================================================\n",
            "Total params: 419,120\n",
            "Trainable params: 419,120\n",
            "Non-trainable params: 0\n",
            "_________________________________________________________________\n"
          ]
        }
      ]
    },
    {
      "cell_type": "code",
      "source": [
        "## Training the autoencoder\n",
        "autoencoder.fit(\n",
        "    x_train,\n",
        "    x_train,\n",
        "    epochs=50,\n",
        "    batch_size=256,\n",
        "    shuffle=False,\n",
        "    validation_data=(x_test, x_test)\n",
        ")\n",
        "\n",
        "test_pred_y = autoencoder.predict(x_test)"
      ],
      "metadata": {
        "colab": {
          "base_uri": "https://localhost:8080/"
        },
        "id": "26fENj61ncY4",
        "outputId": "df697945-2260-47b1-e21a-bfd01aecc46e"
      },
      "execution_count": null,
      "outputs": [
        {
          "output_type": "stream",
          "name": "stdout",
          "text": [
            "Epoch 1/50\n",
            "235/235 [==============================] - 9s 35ms/step - loss: 0.2201 - val_loss: 0.1520\n",
            "Epoch 2/50\n",
            "235/235 [==============================] - 7s 32ms/step - loss: 0.1324 - val_loss: 0.1166\n",
            "Epoch 3/50\n",
            "235/235 [==============================] - 5s 21ms/step - loss: 0.1116 - val_loss: 0.1053\n",
            "Epoch 4/50\n",
            "235/235 [==============================] - 5s 21ms/step - loss: 0.1030 - val_loss: 0.0991\n",
            "Epoch 5/50\n",
            "235/235 [==============================] - 5s 21ms/step - loss: 0.0983 - val_loss: 0.0958\n",
            "Epoch 6/50\n",
            "235/235 [==============================] - 5s 21ms/step - loss: 0.0954 - val_loss: 0.0936\n",
            "Epoch 7/50\n",
            "235/235 [==============================] - 5s 21ms/step - loss: 0.0933 - val_loss: 0.0919\n",
            "Epoch 8/50\n",
            "235/235 [==============================] - 5s 21ms/step - loss: 0.0917 - val_loss: 0.0905\n",
            "Epoch 9/50\n",
            "235/235 [==============================] - 5s 21ms/step - loss: 0.0904 - val_loss: 0.0894\n",
            "Epoch 10/50\n",
            "235/235 [==============================] - 5s 21ms/step - loss: 0.0893 - val_loss: 0.0883\n",
            "Epoch 11/50\n",
            "235/235 [==============================] - 5s 21ms/step - loss: 0.0883 - val_loss: 0.0873\n",
            "Epoch 12/50\n",
            "235/235 [==============================] - 5s 21ms/step - loss: 0.0875 - val_loss: 0.0866\n",
            "Epoch 13/50\n",
            "235/235 [==============================] - 5s 21ms/step - loss: 0.0867 - val_loss: 0.0860\n",
            "Epoch 14/50\n",
            "235/235 [==============================] - 5s 21ms/step - loss: 0.0861 - val_loss: 0.0854\n",
            "Epoch 15/50\n",
            "235/235 [==============================] - 5s 21ms/step - loss: 0.0855 - val_loss: 0.0850\n",
            "Epoch 16/50\n",
            "235/235 [==============================] - 5s 21ms/step - loss: 0.0850 - val_loss: 0.0846\n",
            "Epoch 17/50\n",
            "235/235 [==============================] - 5s 21ms/step - loss: 0.0845 - val_loss: 0.0843\n",
            "Epoch 18/50\n",
            "235/235 [==============================] - 5s 21ms/step - loss: 0.0841 - val_loss: 0.0840\n",
            "Epoch 19/50\n",
            "235/235 [==============================] - 5s 21ms/step - loss: 0.0837 - val_loss: 0.0837\n",
            "Epoch 20/50\n",
            "235/235 [==============================] - 6s 24ms/step - loss: 0.0834 - val_loss: 0.0833\n",
            "Epoch 21/50\n",
            "235/235 [==============================] - 5s 21ms/step - loss: 0.0830 - val_loss: 0.0830\n",
            "Epoch 22/50\n",
            "235/235 [==============================] - 5s 21ms/step - loss: 0.0827 - val_loss: 0.0827\n",
            "Epoch 23/50\n",
            "235/235 [==============================] - 5s 21ms/step - loss: 0.0824 - val_loss: 0.0825\n",
            "Epoch 24/50\n",
            "235/235 [==============================] - 5s 21ms/step - loss: 0.0822 - val_loss: 0.0822\n",
            "Epoch 25/50\n",
            "235/235 [==============================] - 5s 21ms/step - loss: 0.0819 - val_loss: 0.0820\n",
            "Epoch 26/50\n",
            "235/235 [==============================] - 5s 21ms/step - loss: 0.0817 - val_loss: 0.0817\n",
            "Epoch 27/50\n",
            "235/235 [==============================] - 5s 21ms/step - loss: 0.0814 - val_loss: 0.0815\n",
            "Epoch 28/50\n",
            "235/235 [==============================] - 5s 21ms/step - loss: 0.0812 - val_loss: 0.0813\n",
            "Epoch 29/50\n",
            "235/235 [==============================] - 5s 21ms/step - loss: 0.0810 - val_loss: 0.0812\n",
            "Epoch 30/50\n",
            "235/235 [==============================] - 5s 21ms/step - loss: 0.0808 - val_loss: 0.0811\n",
            "Epoch 31/50\n",
            "235/235 [==============================] - 5s 21ms/step - loss: 0.0807 - val_loss: 0.0809\n",
            "Epoch 32/50\n",
            "235/235 [==============================] - 5s 21ms/step - loss: 0.0805 - val_loss: 0.0808\n",
            "Epoch 33/50\n",
            "235/235 [==============================] - 5s 21ms/step - loss: 0.0803 - val_loss: 0.0806\n",
            "Epoch 34/50\n",
            "235/235 [==============================] - 5s 21ms/step - loss: 0.0802 - val_loss: 0.0805\n",
            "Epoch 35/50\n",
            "235/235 [==============================] - 5s 21ms/step - loss: 0.0800 - val_loss: 0.0804\n",
            "Epoch 36/50\n",
            "235/235 [==============================] - 5s 21ms/step - loss: 0.0798 - val_loss: 0.0801\n",
            "Epoch 37/50\n",
            "235/235 [==============================] - 5s 21ms/step - loss: 0.0796 - val_loss: 0.0799\n",
            "Epoch 38/50\n",
            "235/235 [==============================] - 5s 21ms/step - loss: 0.0794 - val_loss: 0.0798\n",
            "Epoch 39/50\n",
            "235/235 [==============================] - 5s 21ms/step - loss: 0.0793 - val_loss: 0.0797\n",
            "Epoch 40/50\n",
            "235/235 [==============================] - 5s 21ms/step - loss: 0.0791 - val_loss: 0.0795\n",
            "Epoch 41/50\n",
            "235/235 [==============================] - 5s 21ms/step - loss: 0.0790 - val_loss: 0.0794\n",
            "Epoch 42/50\n",
            "235/235 [==============================] - 5s 21ms/step - loss: 0.0789 - val_loss: 0.0793\n",
            "Epoch 43/50\n",
            "235/235 [==============================] - 5s 21ms/step - loss: 0.0787 - val_loss: 0.0792\n",
            "Epoch 44/50\n",
            "235/235 [==============================] - 5s 21ms/step - loss: 0.0786 - val_loss: 0.0790\n",
            "Epoch 45/50\n",
            "235/235 [==============================] - 5s 21ms/step - loss: 0.0785 - val_loss: 0.0789\n",
            "Epoch 46/50\n",
            "235/235 [==============================] - 5s 21ms/step - loss: 0.0784 - val_loss: 0.0788\n",
            "Epoch 47/50\n",
            "235/235 [==============================] - 5s 21ms/step - loss: 0.0783 - val_loss: 0.0787\n",
            "Epoch 48/50\n",
            "235/235 [==============================] - 5s 21ms/step - loss: 0.0782 - val_loss: 0.0786\n",
            "Epoch 49/50\n",
            "235/235 [==============================] - 5s 21ms/step - loss: 0.0781 - val_loss: 0.0785\n",
            "Epoch 50/50\n",
            "235/235 [==============================] - 5s 21ms/step - loss: 0.0781 - val_loss: 0.0784\n"
          ]
        }
      ]
    },
    {
      "cell_type": "code",
      "source": [
        "n = 10  ## how many digits we will display\n",
        "plt.figure(figsize=(20, 4))\n",
        "for i in range(n):\n",
        "    ## display original\n",
        "    ax = plt.subplot(2, n, i + 1)\n",
        "    ax.set_title(\"Original Image\")\n",
        "    plt.imshow(x_test[i].reshape(H, W))\n",
        "    plt.gray()\n",
        "    ax.get_xaxis().set_visible(False)\n",
        "    ax.get_yaxis().set_visible(False)\n",
        "\n",
        "    ## display reconstruction\n",
        "    ax = plt.subplot(2, n, i + 1 + n)\n",
        "    ax.set_title(\"Predicted Image\")\n",
        "    plt.imshow(test_pred_y[i].reshape(H, W))\n",
        "    plt.gray()\n",
        "    ax.get_xaxis().set_visible(False)\n",
        "    ax.get_yaxis().set_visible(False)"
      ],
      "metadata": {
        "colab": {
          "base_uri": "https://localhost:8080/",
          "height": 264
        },
        "id": "-XLpWCaenjtn",
        "outputId": "6c450d9a-81c8-4e95-84d8-72f992ae3bb2"
      },
      "execution_count": null,
      "outputs": [
        {
          "output_type": "display_data",
          "data": {
            "text/plain": [
              "<Figure size 1440x288 with 20 Axes>"
            ],
            "image/png": "[encoded data removed]"
          },
          "metadata": {
            "needs_background": "light"
          }
        }
      ]
    },
    {
      "cell_type": "markdown",
      "source": [
        "***CONCLUSION***\n",
        "\n",
        "*We have managed to classify the image using Deep autoencoder using feature extraction*"
      ],
      "metadata": {
        "id": "XFplK1n_TmJ4"
      }
    }
  ]
}